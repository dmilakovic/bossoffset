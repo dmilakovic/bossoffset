{
 "cells": [
  {
   "cell_type": "markdown",
   "metadata": {},
   "source": [
    "# Spectrophotometric Calibration"
   ]
  },
  {
   "cell_type": "markdown",
   "metadata": {},
   "source": [
    "See \"Improved Spectrophotometric Calibration of the SDSS-III BOSS Quasar Sample\", [arxiv:1506.04790]( http://arxiv.org/abs/1506.04790)."
   ]
  },
  {
   "cell_type": "markdown",
   "metadata": {},
   "source": [
    "## Initialization"
   ]
  },
  {
   "cell_type": "code",
   "execution_count": 1,
   "metadata": {
    "collapsed": false
   },
   "outputs": [
    {
     "name": "stdout",
     "output_type": "stream",
     "text": [
      "Populating the interactive namespace from numpy and matplotlib\n"
     ]
    }
   ],
   "source": [
    "%pylab inline"
   ]
  },
  {
   "cell_type": "code",
   "execution_count": 2,
   "metadata": {
    "collapsed": false
   },
   "outputs": [
    {
     "name": "stdout",
     "output_type": "stream",
     "text": [
      "0.2.8dev\n"
     ]
    },
    {
     "name": "stderr",
     "output_type": "stream",
     "text": [
      "/Users/david/anaconda/lib/python2.7/site-packages/IPython/kernel/__init__.py:13: ShimWarning: The `IPython.kernel` package has been deprecated. You should import from ipykernel or jupyter_client instead.\n",
      "  \"You should import from ipykernel or jupyter_client instead.\", ShimWarning)\n"
     ]
    }
   ],
   "source": [
    "import bossdata\n",
    "print bossdata.__version__"
   ]
  },
  {
   "cell_type": "markdown",
   "metadata": {},
   "source": [
    "## Sample Statistics"
   ]
  },
  {
   "cell_type": "markdown",
   "metadata": {},
   "source": [
    "Open the DR12 metadata file:"
   ]
  },
  {
   "cell_type": "code",
   "execution_count": 3,
   "metadata": {
    "collapsed": true
   },
   "outputs": [],
   "source": [
    "spAll = bossdata.meta.Database(lite=False)"
   ]
  },
  {
   "cell_type": "markdown",
   "metadata": {},
   "source": [
    "Lookup the target bit that identifies an offset standard-star target:"
   ]
  },
  {
   "cell_type": "code",
   "execution_count": 4,
   "metadata": {
    "collapsed": false
   },
   "outputs": [],
   "source": [
    "qso_std = bossdata.bits.ANCILLARY_TARGET2.QSO_STD"
   ]
  },
  {
   "cell_type": "markdown",
   "metadata": {},
   "source": [
    "Find all offset standard-star targets from the ancillary program:"
   ]
  },
  {
   "cell_type": "code",
   "execution_count": 27,
   "metadata": {
    "collapsed": true
   },
   "outputs": [],
   "source": [
    "offset_standards = spAll.select_all(\n",
    "    where='ANCILLARY_TARGET2 & {mask} != 0'.format(mask=qso_std),\n",
    "    what='PLATE,MJD,FIBER,LAMBDA_EFF,OBJTYPE,CLASS,ZWARNING,ANCILLARY_TARGET2')"
   ]
  },
  {
   "cell_type": "code",
   "execution_count": 63,
   "metadata": {
    "collapsed": false
   },
   "outputs": [],
   "source": [
    "offset_standards.write('offset_standards.fits', overwrite=True)"
   ]
  },
  {
   "cell_type": "markdown",
   "metadata": {},
   "source": [
    "We only use targets confirmed as stars and with no other ancillary target bits set:"
   ]
  },
  {
   "cell_type": "code",
   "execution_count": 34,
   "metadata": {
    "collapsed": false
   },
   "outputs": [],
   "source": [
    "confirmed_stars = (offset_standards['CLASS'] == 'STAR')\n",
    "only_qso_std = (offset_standards['ANCILLARY_TARGET2']==qso_std)\n",
    "num_confirmed = np.count_nonzero(confirmed_stars & only_qso_std)"
   ]
  },
  {
   "cell_type": "markdown",
   "metadata": {},
   "source": [
    "There are only 4 confirmed stars with other ancillary target bits set (QSO_VAR_SDSS and QSO_XD_KDE_PAIR), but we don't understand how this happened so we omit them:"
   ]
  },
  {
   "cell_type": "code",
   "execution_count": 39,
   "metadata": {
    "collapsed": false
   },
   "outputs": [
    {
     "data": {
      "text/plain": [
       "{'QSO_STD': 4, 'QSO_VAR_SDSS': 1, 'QSO_XD_KDE_PAIR': 3}"
      ]
     },
     "execution_count": 39,
     "metadata": {},
     "output_type": "execute_result"
    }
   ],
   "source": [
    "bossdata.bits.summarize_bitmask_values(bossdata.bits.ANCILLARY_TARGET2,\n",
    "                                       offset_standards[confirmed_stars & ~only_qso_std]['ANCILLARY_TARGET2'])"
   ]
  },
  {
   "cell_type": "markdown",
   "metadata": {},
   "source": [
    "Count how many different observations (PLATE-MJD) these confirmed stars occur on:"
   ]
  },
  {
   "cell_type": "code",
   "execution_count": 37,
   "metadata": {
    "collapsed": false
   },
   "outputs": [
    {
     "name": "stdout",
     "output_type": "stream",
     "text": [
      "Found 1770 offset targets confirmed as stars in 161 observations.\n"
     ]
    }
   ],
   "source": [
    "observations_by_plate = offset_standards[confirmed_stars].group_by(('PLATE', 'MJD'))\n",
    "num_observations = len(observations_by_plate.groups)\n",
    "print 'Found',num_confirmed,'offset targets confirmed as stars in',num_observations,'observations.'"
   ]
  },
  {
   "cell_type": "markdown",
   "metadata": {},
   "source": [
    "Count how many offset standards are on each spectrograph for each observation:"
   ]
  },
  {
   "cell_type": "code",
   "execution_count": 56,
   "metadata": {
    "collapsed": false
   },
   "outputs": [],
   "source": [
    "num_in_plate = np.diff(observations_by_plate.groups.indices)\n",
    "num_in_spec1 = observations_by_plate['FIBER'].groups.aggregate(lambda fiber: np.count_nonzero(fiber < 501))\n",
    "num_in_spec2 = observations_by_plate['FIBER'].groups.aggregate(lambda fiber: np.count_nonzero(fiber > 500))"
   ]
  },
  {
   "cell_type": "code",
   "execution_count": 58,
   "metadata": {
    "collapsed": false
   },
   "outputs": [
    {
     "data": {
      "image/png": "[encoded data removed]",
      "text/plain": [
       "<matplotlib.figure.Figure at 0x10a848cd0>"
      ]
     },
     "metadata": {},
     "output_type": "display_data"
    }
   ],
   "source": [
    "plt.hist(num_in_plate, bins=31, range=(-0.5, 30.5), histtype='stepfilled', alpha=0.25, label='plate')\n",
    "plt.hist(num_in_spec1, bins=31, range=(-0.5, 30.5), histtype='step', label='spec1')\n",
    "plt.hist(num_in_spec2, bins=31, range=(-0.5, 30.5), histtype='step', label='spec2')\n",
    "plt.legend()\n",
    "plt.xlim(-0.5, 30.5)\n",
    "plt.xlabel('Number of offset stars')\n",
    "plt.show()"
   ]
  },
  {
   "cell_type": "markdown",
   "metadata": {},
   "source": [
    "Find plates with at least 10 offsets stars total:"
   ]
  },
  {
   "cell_type": "code",
   "execution_count": 59,
   "metadata": {
    "collapsed": false
   },
   "outputs": [
    {
     "name": "stdout",
     "output_type": "stream",
     "text": [
      "79 plates have >= 10 offset stars.\n"
     ]
    }
   ],
   "source": [
    "plate_10_sample = (num_in_plate >= 10)\n",
    "print np.count_nonzero(plate_10_sample),'plates have >= 10 offset stars.'"
   ]
  },
  {
   "cell_type": "markdown",
   "metadata": {},
   "source": [
    "Find plates where both spectrographs have at least 10 offset stars each:"
   ]
  },
  {
   "cell_type": "code",
   "execution_count": 60,
   "metadata": {
    "collapsed": false
   },
   "outputs": [
    {
     "name": "stdout",
     "output_type": "stream",
     "text": [
      "19 plates have >= 10 + 10 offset stars.\n"
     ]
    }
   ],
   "source": [
    "spec_10_sample = (num_in_spec1 >= 10) & (num_in_spec2 >= 10)\n",
    "print np.count_nonzero(spec_10_sample),'plates have >= 10 + 10 offset stars.'"
   ]
  },
  {
   "cell_type": "code",
   "execution_count": 74,
   "metadata": {
    "collapsed": false
   },
   "outputs": [
    {
     "name": "stdout",
     "output_type": "stream",
     "text": [
      "PLATE  MJD \n",
      "----- -----\n",
      " 6130 56214\n",
      " 6131 56211\n",
      " 6135 56192\n",
      " 6136 56206\n",
      " 6155 56245\n",
      " 6157 56238\n",
      " 6290 56238\n",
      " 6293 56561\n",
      " 6296 56219\n",
      " 6297 56218\n",
      " 6298 56208\n",
      " 6307 56205\n",
      " 6506 56564\n",
      " 6509 56486\n",
      " 6590 56273\n",
      " 6681 56419\n",
      " 6734 56386\n",
      " 6816 56444\n",
      " 6986 56717\n"
     ]
    }
   ],
   "source": [
    "plate_mjd = observations_by_plate[['PLATE', 'MJD']].groups.aggregate(np.unique)\n",
    "print plate_mjd[spec_10_sample]"
   ]
  },
  {
   "cell_type": "code",
   "execution_count": null,
   "metadata": {
    "collapsed": true
   },
   "outputs": [],
   "source": []
  }
 ],
 "metadata": {
  "kernelspec": {
   "display_name": "Python 2",
   "language": "python",
   "name": "python2"
  },
  "language_info": {
   "codemirror_mode": {
    "name": "ipython",
    "version": 2
   },
   "file_extension": ".py",
   "mimetype": "text/x-python",
   "name": "python",
   "nbconvert_exporter": "python",
   "pygments_lexer": "ipython2",
   "version": "2.7.10"
  }
 },
 "nbformat": 4,
 "nbformat_minor": 0
}
